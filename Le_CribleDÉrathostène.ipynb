{
  "cells": [
    {
      "cell_type": "markdown",
      "metadata": {
        "id": "QpeZ6vEvnghx"
      },
      "source": [
        "\n",
        "# Crible d'Ératosthène\n",
        "\n",
        "**Le crible d'[Ératosthène](https://fr.wikipedia.org/wiki/Crible_d%27Ératosthène)** est un procédé qui permet de trouver tous les nombres premiers inférieurs à un certain entier naturel donné N. \n",
        "\n",
        "## Qu'est ce qu'un nombre premier?\n",
        "Un nombre premier est **Un entier naturel** qui admet exactement **deux diviseurs distincts entiers et positifs (qui sont alors 1 et lui-même)**. \n",
        "Cette définition exclut donc 1, qui n'a qu'un seul diviseur entier positif.\n",
        "\n",
        "##L'algorithme du Crible d'Ératosthène en Python\n",
        "\n",
        "###Première version:\n",
        "\n",
        "Réaliser le programme permettant de trouver tous les nombres premiers inférieurs à un certain entier naturel **n** donné en paramètre.\n",
        "\n",
        "Le programme doit renvoyer la liste résultante de tous les nombres premiers.\n",
        "\n",
        "Pour mieux comprendre le fonctionnement de l'algorithme en question, visualiuser cette vidéo: [Comment retrouver les 25 premiers nombres premiers - Crible d'Ératosthène](https://youtu.be/w-gI60OHXmc)\n"
      ]
    },
    {
      "cell_type": "code",
      "execution_count": null,
      "metadata": {
        "id": "dU07P1UXnX-5"
      },
      "outputs": [],
      "source": [
        "# Ecrire et commenter votre programme ici\n",
        "\n",
        "#Utilisation de filter()\n",
        "liste = []\n",
        "n = 25\n",
        "\n",
        "for i in range(1,n+1):\n",
        "    \n"
      ]
    },
    {
      "cell_type": "markdown",
      "metadata": {
        "id": "Gk0h9ZoyciWD"
      },
      "source": [
        "###Deuxième version:\n",
        "\n",
        "Simplifier l'écriture de votre programme précédent en tenant compte des paradigmes de la programmation fonctionnelle."
      ]
    },
    {
      "cell_type": "code",
      "execution_count": null,
      "metadata": {
        "id": "PpVTxnncdDjC"
      },
      "outputs": [],
      "source": [
        "# Ecrire et commenter votre programme fonctionnel ici"
      ]
    },
    {
      "cell_type": "markdown",
      "metadata": {
        "id": "xv3s1N-QeDnd"
      },
      "source": [
        "\n",
        "###Troisième version\n",
        "Ecrire un programme récursif fonctionnel utilisant le Crible d'Ératosthène"
      ]
    },
    {
      "cell_type": "code",
      "execution_count": null,
      "metadata": {
        "id": "1L4RBF-0etPE"
      },
      "outputs": [],
      "source": [
        "# Ecrire et commenter votre programme fonctionnel récursif ici"
      ]
    },
    {
      "cell_type": "markdown",
      "metadata": {
        "id": "8qKtFJ33eyYG"
      },
      "source": [
        "##Conclusion\n",
        "Pour suivre les étapes d'exécution de votre programme, utiliser [Python Tutor](https://pythontutor.com/visualize.html#mode=edit).\n",
        "Essayer de commenter le résultat."
      ]
    }
  ],
  "metadata": {
    "colab": {
      "name": "Le CribleDÉrathostène.ipynb",
      "provenance": []
    },
    "kernelspec": {
      "display_name": "Python 3",
      "name": "python3"
    },
    "language_info": {
      "name": "python"
    }
  },
  "nbformat": 4,
  "nbformat_minor": 0
}
